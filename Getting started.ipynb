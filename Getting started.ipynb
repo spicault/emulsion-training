{
 "cells": [
  {
   "cell_type": "markdown",
   "id": "a73de8a6",
   "metadata": {},
   "source": [
    "# Introduction to the exploration of epidemiological models using EMULSION\n",
    "\n",
    "\n",
    "\n",
    "| Author: **Sébastien Picault, INRAE** | June 2-4, 2021 |\n",
    "|---|---|\n",
    "| License: [CC-BY-NC-SA](https://en.wikipedia.org/wiki/Creative_Commons_license) | ![CC-BY-NC-SA](https://upload.wikimedia.org/wikipedia/commons/1/12/Cc-by-nc-sa_icon.svg \"License CC-BY-NC-SA\") |\n",
    "\n",
    "\n",
    "\n",
    "\n"
   ]
  },
  {
   "cell_type": "code",
   "execution_count": 27,
   "id": "e062b2f2-1658-44c9-879d-198ae82d3654",
   "metadata": {},
   "outputs": [],
   "source": [
    "%%bash\n",
    "dot -Tsvg -o img/progression.svg img/progression.dot"
   ]
  },
  {
   "cell_type": "markdown",
   "id": "7be33ebd-fae7-40ba-b749-93411a3b8582",
   "metadata": {},
   "source": [
    "In the following exercises, we will start with a simple model and see how EMULSION helps to introduce new features to make it more realistic and represent detection and control measures. \n",
    "In the meanwhile, a few side issues will be also explored to illustrate specific points in modelling.\n",
    "\n",
    "The \"evolution\" of the models goes through the following diagram:\n",
    "\n",
    "![img/progression.svg](img/progression.svg)\n",
    "\n",
    "\n",
    "Solutions are proposed for each exercise in the `solutions` directory."
   ]
  },
  {
   "cell_type": "markdown",
   "id": "9be1cbf5",
   "metadata": {},
   "source": [
    "---\n",
    "\n",
    "## Exercise 1 — Your first EMULSION model\n",
    "\n",
    "File [`exercises/step1.yaml`](exercises/step1.yaml) describes EMULSION components of a discrete-time, stochastic, compartment-based SIR model.\n",
    "\n",
    "### 1.1 Dive into the model\n",
    "\n",
    "Open the file in a text editor and look at the different parts. Identify where states and transitions, initial conditions, and parameters are defined.\n",
    "\n",
    "### 1.2 Run the model\n",
    "\n",
    "Run the model with EMULSION and look at simulation outcomes. To do so, open a terminal in the `exercises` directory and type what follows:\n",
    "    \n",
    "```\n",
    "emulsion run --plot step1.yaml\n",
    "```\n"
   ]
  },
  {
   "cell_type": "code",
   "execution_count": 3,
   "id": "1d1eb5e1",
   "metadata": {},
   "outputs": [
    {
     "name": "stdout",
     "output_type": "stream",
     "text": [
      "/Users/picault/git/emulsion-training/exercises\n",
      "Simulation level:herd\n",
      "Simulation finished in 2.10 s\n",
      "Outputs stored in outputs/counts.csv\n",
      "Outputs plot in file: img/stoch_compart_SIR.html\n"
     ]
    },
    {
     "name": "stderr",
     "output_type": "stream",
     "text": [
      "[Run 0]: 100%|██████████| 100/100\n",
      "[Run 1]: 100%|██████████| 100/100\n",
      "[Run 2]: 100%|██████████| 100/100\n",
      "[Run 3]: 100%|██████████| 100/100\n",
      "[Run 4]: 100%|██████████| 100/100\n",
      "[Run 5]: 100%|██████████| 100/100\n",
      "[Run 6]: 100%|██████████| 100/100\n",
      "[Run 7]: 100%|██████████| 100/100\n",
      "[Run 8]: 100%|██████████| 100/100\n",
      "[Run 9]: 100%|██████████| 100/100\n"
     ]
    }
   ],
   "source": [
    "%%bash \n",
    "cd exercises\n",
    "emulsion run --plot step1.yaml"
   ]
  },
  {
   "cell_type": "markdown",
   "id": "c911d691",
   "metadata": {},
   "source": [
    "Plots corresponding to simulation outcomes are produced in a file named after the `model_name` value specified in the YAML file: [img/stoch_compart_SIR.html](exercises/img/stoch_compart_SIR.html). \n",
    "\n",
    "They are built from the simulation outputs which are stored in a CSV file named `counts.csv`, which by default is located in the `outputs/` directory: [outputs/counts.csv](exercises/outputs/counts.csv)"
   ]
  },
  {
   "cell_type": "markdown",
   "id": "d00270e5",
   "metadata": {},
   "source": [
    "**NOTE:** Running `emulsion -h` provides all possible commands and options (see main ones in file [`appendix.pdf`](appendix.pdf)). Also, in the terminal, the command comes with completion (start typing and hit TAB key to view proposals)."
   ]
  },
  {
   "cell_type": "code",
   "execution_count": 3,
   "id": "3238f638",
   "metadata": {},
   "outputs": [
    {
     "name": "stdout",
     "output_type": "stream",
     "text": [
      "Usage:\n",
      "    emulsion run [--plot] MODEL [options] [(-p KEY=VALUE)...]\n",
      "    emulsion show MODEL [options] [(-p KEY=VALUE)...]\n",
      "    emulsion describe MODEL PARAM...\n",
      "    emulsion diagrams MODEL [options]\n",
      "    emulsion plot MODEL [options]\n",
      "    emulsion check MODEL [options]\n",
      "    emulsion generate MODEL\n",
      "    emulsion (-h | --help | -V | --version | -L | --license)\n",
      "\n",
      "Commands:\n",
      "  run MODEL                   Run simulations based on the specified MODEL\n",
      "                              (MODEL is the path to the YAML file describing the\n",
      "                              model to run).\n",
      "  show MODEL                  Print all MODEL parameter values and exit.\n",
      "  describe MODEL PARAM...     Describe the role of specified PARAMeters in the\n",
      "                              MODEL and exit.\n",
      "  diagrams MODEL              Produce model diagrams (as option --view-model\n",
      "                              when running/plotting) and open them\n",
      "  plot MODEL                  Plot outputs for MODEL (assumed already run) and\n",
      "                              exit.\n",
      "  check MODEL                 Check the syntactic correctness of the given MODEL\n",
      "                              (path to YAML file of the model to run), according\n",
      "                              to EMULSION meta-model. Option '--meta-tree'\n",
      "                              generates a figure representing EMULSION meta-\n",
      "                              model. If the model is correct, option\n",
      "                              '--model-tree' also generates a figure for the\n",
      "                              MODEL structure.\n",
      "  generate MODEL              Generate a skeleton to help writing specific\n",
      "                              pieces of code before the MODEL can be run, and\n",
      "                              exit.\n",
      "\n",
      "Options:\n",
      "  -h --help                   Display this page and exit.\n",
      "  -V --version                Display version number and exit.\n",
      "  -L --license                Display license and exit.\n",
      "  --plot                      Plot outputs just after running the model.\n",
      "  -r RUNS --runs RUNS         Specify the number of repetitions of the same\n",
      "                              model [default: 10].\n",
      "  -t STEPS --time STEPS       Specify the number of time steps to run in each\n",
      "                              repetition. If the model defines a total_duration,\n",
      "                              it is used as time limit, unless the '-t' option\n",
      "                              is explicitly specified. Otherwise, the default\n",
      "                              value is 100 steps.\n",
      "  -p KEY=VAL --param KEY=VAL  Change parameter named KEY to the specified VALue.\n",
      "  --view-model                Produce diagrams to represent the state machines\n",
      "                              of the model (requires Graphviz). Figures are\n",
      "                              stored in figure-dir.\n",
      "  --silent                    Show only the progression of repetitions instead\n",
      "                              of the progression of each simulation.\n",
      "  --quiet                     Show no progression information at all.\n",
      "  --no-count                  Disable the production of file counts.csv (hence\n",
      "                              accelerates simulation)\n",
      "  --save FILE                 Save simulation state (all agents state and\n",
      "                              parameters) at the end of the simulation.\n",
      "  --load FILE                 Use a saved simulation to start the current one.\n",
      "  --output-dir OUTPUT         Specify a directory for simulation outputs\n",
      "                              [default: outputs].\n",
      "  --input-dir INPUT           Specify a directory for simulation inputs\n",
      "                              [default: data].\n",
      "  --figure-dir FIG            Specify a directory for graphic outputs (figures)\n",
      "                              [default: img].\n",
      "  --log-params                When producing CSV outputs, insert the name and\n",
      "                              value of each parameter explicitly changed by\n",
      "                              option -p/--param. (DEPRECATED)\n",
      "  --format FORMAT             Specify an image format for diagram outputs\n",
      "                              [default: svg].\n",
      "  --table-params              Display a table of the parameters and initial\n",
      "                              conditions.\n",
      "\n",
      "Advanced options:\n",
      "  --seed SEED                 Set a seed value for random numbers. When not\n",
      "                              specified, the seed is set according to system\n",
      "                              time and the process id.\n",
      "  --show-seed                 Print the seed used for random numbers.\n",
      "  --start-id ID               ID of the first repetition of the same model\n",
      "                              [default: 0].\n",
      "  --echo                      Just print command-line arguments parsed by Python\n",
      "                              docopt module and exit.\n",
      "  --deterministic             Run the simulation in deterministic mode if\n",
      "                              available.\n",
      "  --modifiable                Output the list of modifiable parameters and exit.\n",
      "  --level LEVEL               Specify the LEVEL (scale) for running the model.\n",
      "                              Valid values are those defined in the 'level'\n",
      "                              section of the MODEL. The corresponding agent\n",
      "                              class will be used to manage the simulation of\n",
      "                              lower-level entities. When no value is given, the\n",
      "                              highest level (if any) is used.\n",
      "  --model-tree                Output a figure or the syntactic tree that\n",
      "                              represents the model if it complies to EMULSION\n",
      "                              DSL syntax (requires Graphviz).\n",
      "  --meta-tree                 Output a figure of the meta-model associated with\n",
      "                              EMULSION DSL (requires Graphviz).\n",
      "\n",
      "[HEADER]\n"
     ]
    }
   ],
   "source": [
    "%%bash\n",
    "emulsion -h"
   ]
  },
  {
   "cell_type": "markdown",
   "id": "bd48e054",
   "metadata": {},
   "source": [
    "### 1.3 View model diagrams \n",
    "\n",
    "Produce a graphical representation of the state machines of the model:\n",
    "\n",
    "```\n",
    "emulsion diagrams step1.yaml\n",
    "```\n",
    "\n",
    "then look at the results here: [img/stoch_compart_SIR_health_state_machine.svg](exercises/img/stoch_compart_SIR_health_state_machine.svg).    \n"
   ]
  },
  {
   "cell_type": "code",
   "execution_count": 4,
   "id": "17ea97ff",
   "metadata": {},
   "outputs": [
    {
     "name": "stdout",
     "output_type": "stream",
     "text": [
      "/Users/picault/git/emulsion-training/exercises\n",
      "Simulation level:herd\n",
      "Generated state machine diagram img/stoch_compart_SIR_health_state_machine.svg\n"
     ]
    }
   ],
   "source": [
    "%%bash\n",
    "cd exercises\n",
    "emulsion diagrams step1.yaml"
   ]
  },
  {
   "cell_type": "markdown",
   "id": "e95a7394",
   "metadata": {},
   "source": [
    "![stoch_compart_SIR_health_state_machine.svg](solutions/img/stoch_compart_SIR_health_state_machine.svg)\n",
    "\n",
    "* These diagrams are produced automatically from the model using Graphviz and the \"dot\" format. The corresponding figures are in the `img/` directory, named after the model and each state machine, for instance [stoch_compart_SIR_health_state_machine.svg](exercises/img/stoch_compart_SIR_health_state_machine.svg). By default, they are produced in SVG format; alternatively (with option `--format`), they can be produced in PDF or PNG formats.\n",
    "    \n",
    " * The \"dot\" files are in `outputs/` and can be customized for further use: [stoch_compart_SIR_health_state.dot](exercises/outputs/stoch_compart_SIR_health_state.dot)\n",
    "    "
   ]
  },
  {
   "cell_type": "markdown",
   "id": "8e7f5631",
   "metadata": {},
   "source": [
    "### 1.4 Change simulation conditions\n",
    "\n",
    "Play with the model through the command-line interface: for instance, to run only one repetition (`-r 1`) but observe the evolution of the system in the long run (500 days: `-t 500`) with different parameter values (`-p` to change parameter value):\n",
    "\n",
    "```\n",
    "emulsion run --plot step1.yaml -r 1 -t 500 -p transmission_I=0.2 -p initial_prevalence=0.1\n",
    " ```\n",
    " "
   ]
  },
  {
   "cell_type": "code",
   "execution_count": 12,
   "id": "c5c9eb63",
   "metadata": {},
   "outputs": [
    {
     "name": "stdout",
     "output_type": "stream",
     "text": [
      "/Users/picault/git/emulsion-training/exercises\n",
      "Simulation level:herd\n",
      "Simulation finished in 1.03 s\n",
      "Outputs stored in outputs/counts.csv\n",
      "Outputs plot in file: img/stoch_compart_SIR.html\n"
     ]
    },
    {
     "name": "stderr",
     "output_type": "stream",
     "text": [
      "[Run 0]: 100%|██████████| 500/500\n"
     ]
    }
   ],
   "source": [
    "%%bash\n",
    "cd exercises\n",
    "emulsion run --plot step1.yaml -r 1 -t 500 -p transmission_I=0.2 -p initial_prevalence=0.1"
   ]
  },
  {
   "cell_type": "markdown",
   "id": "9df6ab6e",
   "metadata": {},
   "source": [
    "---\n",
    "\n",
    "## Exercise 2 — Introduce demography and age structure\n",
    "\n",
    "Open file [`step2.yaml`](exercises/step2.yaml) and incorporate the following changes:"
   ]
  },
  {
   "cell_type": "markdown",
   "id": "881ad76e",
   "metadata": {},
   "source": [
    "### 2.1 Add age groups\n",
    "\n",
    "We will represent two age groups: **juveniles** (J) and **adults** (A), juveniles becoming adults at rate *maturation=0.05*. We will take example on existing parameters, processes and state machines:\n",
    "\n",
    "- rename the model from `stoch_compart_SIR` to `stoch_compart_SIR_JA`\n",
    "- add a process at animals level, named `age_group`\n",
    "\n",
    "        processes:\n",
    "          animals:\n",
    "            - health_state\n",
    "            - age_group   \n",
    "\n",
    "\n",
    "- add a state machine `age_group`, with two states (J and A), and a transition between J and A \n",
    "\n",
    "        state_machines:\n",
    "           ...\n",
    "           age_group:\n",
    "           desc: '...'\n",
    "           states:\n",
    "             - J:\n",
    "                 name: 'Juveniles'\n",
    "                 desc: '...'\n",
    "                 fillcolor: 'purple'\n",
    "             - A:\n",
    "                 name: 'Adults'\n",
    "                 desc: 'a...'\n",
    "                 fillcolor: 'darkred'\n",
    "           transitions:\n",
    "             - from: J\n",
    "               to: A\n",
    "               rate: 'maturation'\n",
    "               desc: 'maturation of juvenile individuals into adults'\n",
    "\n",
    "\n",
    "- add the parameter `maturation`\n",
    "\n",
    "        parameters:\n",
    "          ...\n",
    "          maturation: \n",
    "            desc: 'maturation rate, i.e. speed at which juveniles become adults'\n",
    "            value: 0.05      \n"
   ]
  },
  {
   "cell_type": "markdown",
   "id": "1ef39e7c",
   "metadata": {},
   "source": [
    "### 2.2 Run the model and observe the results. \n",
    "    \n",
    "```\n",
    "emulsion run --plot step2.yaml --silent\n",
    "```"
   ]
  },
  {
   "cell_type": "code",
   "execution_count": 13,
   "id": "9c8acda4",
   "metadata": {},
   "outputs": [
    {
     "name": "stdout",
     "output_type": "stream",
     "text": [
      "/Users/picault/git/emulsion-training/exercises\n",
      "Simulation level:herd\n",
      "Simulation finished in 3.53 s\n",
      "Outputs stored in outputs/counts.csv\n",
      "Outputs plot in file: img/stoch_compart_SIR_JA.html\n"
     ]
    },
    {
     "name": "stderr",
     "output_type": "stream",
     "text": [
      "100%|██████████| 10/10\n"
     ]
    }
   ],
   "source": [
    "%%bash\n",
    "emulsion run --plot step2.yaml --silent"
   ]
  },
  {
   "cell_type": "markdown",
   "id": "ad832aa7",
   "metadata": {},
   "source": [
    "... and check the results: [img/stoch_compart_SIR_JA.html](exercises/img/stoch_compart_SIR_JA.html)"
   ]
  },
  {
   "cell_type": "markdown",
   "id": "f6d7a9f6",
   "metadata": {},
   "source": [
    "**IMPORTANT NOTE:** \n",
    "\n",
    "Initial individuals are **distributed randomly** in J and A states. This is because the prototypes used for defining the initial conditions do not specify the value of `age_group`.\n",
    "\n",
    "Let's assume that juveniles should be regarded as the default `age_group` state. \n",
    "- modify the initial prototypes to assign a \"default\" age group:\n",
    "\n",
    "        prototypes:\n",
    "          animals:\n",
    "            - healthy:\n",
    "                desc: 'healthy animals'\n",
    "                health_state: S\n",
    "                age_group: default\n",
    "            - infectious:\n",
    "                desc: 'infectious animals'\n",
    "                health_state: I\n",
    "                age_group: default\n",
    "        \n",
    "\n",
    "- modify state J in the state machines section to mark it as the default age group state:\n",
    "\n",
    "        state_machines:\n",
    "        ...\n",
    "          age_group:\n",
    "            states:\n",
    "                 - J:\n",
    "                     name: 'Juveniles'\n",
    "                     desc: '...'\n",
    "                     fillcolor: 'purple'\n",
    "                     default: yes\n",
    "            ...\n",
    "\n"
   ]
  },
  {
   "cell_type": "markdown",
   "id": "7f6a7397",
   "metadata": {},
   "source": [
    "### 2.3 Add a density-dependent mortality\n",
    "\n",
    "Mortality is represented with a new state \"Deceased\" (D) in state machine `age_group`. It produces a \"sink\" to put individuals leaving the system.\n",
    "\n",
    "Add state D **with property `autoremove: yes`** and transitions from both J and A to D with mortality rate `mu * total_herd / K`. \n",
    "- variable `total_herd` represents the total number of animals, automatically defined in EMULSION\n",
    "- add two new parameters: the base mortality rate *mu = 0.05* and the carrying capacity of the environment *K = 150*\n"
   ]
  },
  {
   "cell_type": "markdown",
   "id": "65bfe9a8",
   "metadata": {},
   "source": [
    "### 2.4 Add a birth dynamics\n",
    "\n",
    "State machines can define a `productions:` section (similar to `transitions:`) to specify from and to which states and at which rate new individuals are produced.\n",
    "\n",
    "- create a new prototype `newborn` for new individuals, specifying their `age_group` (J) but also their `health_state` (S, assuming no vertical transmission)\n",
    "- add a production link between A and J (adults produce juveniles) at birth rate *b = mu* $\\times\\ 2$, specifying `prototype: newborn` for the newly created individuals"
   ]
  },
  {
   "cell_type": "markdown",
   "id": "f7a6f70f",
   "metadata": {},
   "source": [
    "### 2.5 Test your final model\n",
    "\n",
    "```\n",
    "emulsion run --plot step2.yaml --silent\n",
    "```\n"
   ]
  },
  {
   "cell_type": "code",
   "execution_count": null,
   "id": "1d397899",
   "metadata": {},
   "outputs": [],
   "source": [
    "%%bash\n",
    "cd exercises \n",
    "emulsion run --plot step2.yaml --silent"
   ]
  },
  {
   "cell_type": "markdown",
   "id": "a1541b90",
   "metadata": {},
   "source": [
    "... and check the results: [img/stoch_compart_SIR_JA.html](exercises/img/stoch_compart_SIR_JA.html)"
   ]
  },
  {
   "cell_type": "markdown",
   "id": "f6c52002-6398-46bd-9c82-34b2aeac5cb4",
   "metadata": {},
   "source": [
    "### 2.6 Check the new diagram\n",
    "\n",
    "You can visualize the diagram corresponding to the new state machine:\n",
    "\n",
    "```\n",
    "emulsion diagrams step2.yaml\n",
    "```"
   ]
  },
  {
   "cell_type": "code",
   "execution_count": null,
   "id": "40cab0fa",
   "metadata": {},
   "outputs": [],
   "source": [
    "%%bash\n",
    "cd exercises\n",
    "emulsion diagrams step2.yaml"
   ]
  },
  {
   "cell_type": "markdown",
   "id": "ada99a72-94ff-4a09-98c1-9723d3dc11db",
   "metadata": {},
   "source": [
    "![img/stoch_compart_SIR_JA_age_group_machine.svg](solutions/img/stoch_compart_SIR_JA_age_group_machine.svg)\n",
    "\n",
    "**PLEASE NOTE:**\n",
    "- the *autoremove* state (D) with dotted box\n",
    "- the *production link* from A to J, with dashed arrow"
   ]
  },
  {
   "cell_type": "markdown",
   "id": "4b27e051-ec2e-4c7b-bd3d-81eb8c39d528",
   "metadata": {},
   "source": [
    "### 2.7 Parenthesis: Integrate simulation results with R\n",
    "\n",
    "The default plots produced by EMULSION are not meant to be used but for immediate feedback during model prototyping. Otherwise, the simulation results can be processed with your favourite statistics tool. In what follows, we will provide examples based on [R](https://www.r-project.org/) with libraires [tidyverse](https://www.tidyverse.org/)."
   ]
  },
  {
   "cell_type": "code",
   "execution_count": 5,
   "id": "f6d876f4-7840-46c9-932a-1b81b91abff0",
   "metadata": {},
   "outputs": [],
   "source": [
    "%load_ext rpy2.ipython"
   ]
  },
  {
   "cell_type": "markdown",
   "id": "6b959af9-38a5-4e3a-be61-25bba5a7fe6e",
   "metadata": {},
   "source": [
    "First, simulate your model with enough stochastic repetitions"
   ]
  },
  {
   "cell_type": "code",
   "execution_count": 19,
   "id": "60a554fa-7c70-4d6c-9a57-ee33cb769e0a",
   "metadata": {},
   "outputs": [
    {
     "name": "stdout",
     "output_type": "stream",
     "text": [
      "/Users/picault/git/emulsion-training/exercises\n",
      "Simulation level:herd\n",
      "Simulation finished in 17.02 s\n",
      "Outputs stored in outputs/counts.csv\n",
      "Outputs plot in file: img/stoch_compart_SIR_JA.html\n"
     ]
    },
    {
     "name": "stderr",
     "output_type": "stream",
     "text": [
      "100%|██████████| 50/50\n"
     ]
    }
   ],
   "source": [
    "%%bash\n",
    "cd exercises \n",
    "emulsion run --plot step2.yaml --silent -r 50"
   ]
  },
  {
   "cell_type": "markdown",
   "id": "5cd62ed8-fe72-4905-9a3e-e4ac310c1abe",
   "metadata": {},
   "source": [
    "Then you can use a custom R script to transform and visualize new information from raw simulation data:"
   ]
  },
  {
   "cell_type": "code",
   "execution_count": 6,
   "id": "65607013-422d-4172-be50-01c5b0abc5ea",
   "metadata": {},
   "outputs": [
    {
     "name": "stderr",
     "output_type": "stream",
     "text": [
      "R[write to console]: ── \u001b[1mAttaching packages\u001b[22m ─────────────────────────────────────── tidyverse 1.3.0 ──\n",
      "\n",
      "R[write to console]: \u001b[32m✔\u001b[39m \u001b[34mggplot2\u001b[39m 3.3.0     \u001b[32m✔\u001b[39m \u001b[34mpurrr  \u001b[39m 0.3.3\n",
      "\u001b[32m✔\u001b[39m \u001b[34mtibble \u001b[39m 2.1.3     \u001b[32m✔\u001b[39m \u001b[34mdplyr  \u001b[39m 0.8.5\n",
      "\u001b[32m✔\u001b[39m \u001b[34mtidyr  \u001b[39m 1.0.2     \u001b[32m✔\u001b[39m \u001b[34mstringr\u001b[39m 1.4.0\n",
      "\u001b[32m✔\u001b[39m \u001b[34mreadr  \u001b[39m 1.3.1     \u001b[32m✔\u001b[39m \u001b[34mforcats\u001b[39m 0.4.0\n",
      "\n",
      "R[write to console]: ── \u001b[1mConflicts\u001b[22m ────────────────────────────────────────── tidyverse_conflicts() ──\n",
      "\u001b[31m✖\u001b[39m \u001b[34mdplyr\u001b[39m::\u001b[32mfilter()\u001b[39m masks \u001b[34mstats\u001b[39m::filter()\n",
      "\u001b[31m✖\u001b[39m \u001b[34mdplyr\u001b[39m::\u001b[32mlag()\u001b[39m    masks \u001b[34mstats\u001b[39m::lag()\n",
      "\n"
     ]
    },
    {
     "data": {
      "image/png": "[encoded data removed]"
     },
     "metadata": {},
     "output_type": "display_data"
    }
   ],
   "source": [
    "%%R\n",
    "library(tidyverse)\n",
    "results <- read.table(\"exercises/outputs/counts.csv\", sep=\",\", header=TRUE)\n",
    "## names(results)\n",
    "## [1] \"simu_id\"               \"S\"                     \"I\"                    \n",
    "## [4] \"R\"                     \"J\"                     \"A\"                    \n",
    "## [7] \"step\"                  \"level\"                 \"agent_id\"             \n",
    "##[10] \"percentage_prevalence\" \"total_herd\"           \n",
    "\n",
    "## compute a persistence curve\n",
    "NB.RUNS = max(results$simu_id) + 1 \n",
    "\n",
    "results %>% \n",
    "    select(simu_id, step, I, percentage_prevalence) %>% \n",
    "    mutate(persists=(I > 0)) %>% \n",
    "    group_by(step) %>% \n",
    "    summarise(persistance=sum(persists)/NB.RUNS, \n",
    "              prevalence=sum(percentage_prevalence)/(100 * sum(persists))) %>%\n",
    "    ggplot() + \n",
    "        geom_line(aes(x=step, y=persistance, colour=\"persistance\"), size=1) + \n",
    "        geom_line(aes(x=step, y=prevalence, colour=\"Mean prevalence in persistent repetitions\"), size=1) +\n",
    "        theme_bw() + xlab(\"Time (days)\") + ylab(paste(\"Proportion (on\", NB.RUNS, \"repetitions)\")) + theme(legend.position = \"bottom\")"
   ]
  },
  {
   "cell_type": "markdown",
   "id": "8568c19a-91d4-4d9d-a172-31539b313d1f",
   "metadata": {},
   "source": [
    "---\n",
    "\n",
    "## Exercise 3 — Non-exponential durations\n",
    "\n",
    "In most models, the durations in each state are assumed to follow exponential distributions. EMULSION allows to specify non-exponential durations in compartmental, IBM and hybrid models by adding a property `duration: value` to a state description. This value has to be defined in the `parameters:` section, either as a constant or as an expression, including the sampling in a statistical distribution.\n",
    "\n",
    "When individuals (even \"virtual\" as in compartmental models) enter a state endowed with a `duration` property, they take a value (either constant or drawn in a distribution) and will not be allowed to leave the state before the end of this duration — unless they have a transition marked with an `escape` condition.\n",
    "\n",
    "### 3.1 Constant duration for juveniles\n",
    "\n",
    "To illustrate that, first we want to replace the duration in the juvenile state (J), which is by defaut an exponential distribution of average $1/maturation$, by a constant duration `dur_juvenile` equal to $1/maturation$.\n",
    "\n",
    "- open file [`step3.yaml`](exercises/step3.yaml) and rename the model as `stoch_compart_SIR_JA_dur`\n",
    "- in the definition of state J, add the following property: `duration: dur_juvenile`, then define parameter `dur_juvenile` accordingly\n",
    "- then, you have to **change the transition** from J to A by replacing `rate: maturation` by `proba: 1` — this means that any individual that has spent the correct duration in J is allowed to move to A, but not before\n",
    "- finally, we do not want individuals waiting in the J state to be preserved from mortality! we thus have to allow the transition from J to D to be active during the duration in J: i.e. mark this transition with the property `escape: yes`\n",
    "- try the model and see how juveniles, still subject to mortality, suddenly move to adults\n",
    "```\n",
    "emulsion run --plot step3.yaml --silent\n",
    "```"
   ]
  },
  {
   "cell_type": "code",
   "execution_count": null,
   "id": "a3dadf42-944c-4a3b-a496-b7baefe99c6b",
   "metadata": {},
   "outputs": [],
   "source": [
    "%%bash\n",
    "cd exercises\n",
    "emulsion run --plot step3.yaml --silent"
   ]
  },
  {
   "cell_type": "markdown",
   "id": "4f8c9999-dd6a-4f6b-9fa3-bc0a9ec5e6f4",
   "metadata": {},
   "source": [
    "Look at the results here: [img/stoch_compart_SIR_JA_dur.html](exercises/img/stoch_compart_SIR_JA_dur.html)\n",
    "\n",
    "Also, in model diagram, note:\n",
    "1. the nice **clock** attached to states with a specific **duration** property\n",
    "2. the **triangle** at the beginning of transitions endowed with an **escape** condition.\n",
    "\n",
    "```\n",
    "emulsion diagrams step3.yaml\n",
    "```\n",
    "\n",
    "![img/stoch_compart_SIR_JA_dur_age_group_machine.svg](solutions/img/stoch_compart_SIR_JA_dur_age_group_machine.svg)"
   ]
  },
  {
   "cell_type": "code",
   "execution_count": null,
   "id": "8e28ba30-8609-40f1-983b-c70858a4e112",
   "metadata": {},
   "outputs": [],
   "source": [
    "%%bash\n",
    "cd exercises\n",
    "emulsion diagrams step3.yaml"
   ]
  },
  {
   "cell_type": "markdown",
   "id": "ffbafb3a-3c91-434d-891d-4d8bfeabcb3b",
   "metadata": {},
   "source": [
    "### 3.2 Adding latency in infection\n",
    "\n",
    "In some diseases, there is a delay between the infection of suceptible individuals by infectious ones, and the time these newly infected individuals become infectious themselves. We want to add this *latent* or *exposed* state in the model, between S and I. We assume that the latency lasts in average 6 days and is known to follow a narrow gamma distribution as in the graph below:\n",
    "\n",
    "![Distribution of the duration of latency](img/latency.jpg)\n",
    "\n",
    "- rename the model as `stoch_compart_SEIR_JA_dur`\n",
    "- create a new state E in state machine `health_state` with a duration `dur_latency`, adjust the transitions accordingly\n",
    "- add a parameter `avg_dur_latency` to represent the average duration of latency (e.g. 6 days) \n",
    "- define parameter `dur_latency` with the following value: `random_gamma(50, avg_dur_latency/50)`\n",
    "- add a prototype `infected` and modify initial conditions to start the simulation with latent individuals instead of infectious ones\n",
    "- modify the `percentage_prevalence` to include the new state\n",
    "- try the model and see the delay between E and I\n",
    "```\n",
    "emulsion run --plot step3.yaml --silent\n",
    "```"
   ]
  },
  {
   "cell_type": "code",
   "execution_count": null,
   "id": "3153558b-1895-4a5b-8c39-f483debca6d5",
   "metadata": {},
   "outputs": [],
   "source": [
    "%%bash\n",
    "%cd exercises\n",
    "emulsion run --plot step3.yaml --silent"
   ]
  },
  {
   "cell_type": "markdown",
   "id": "bec4d449-70de-415d-82b9-571513b524ee",
   "metadata": {
    "tags": []
   },
   "source": [
    "Look at the results here: [img/stoch_compart_SEIR_JA_dur.html](exercises/img/stoch_compart_SEIR_JA_dur.html)\n",
    "\n",
    "Also, in model diagram, note:\n",
    "1. the nice **clock** attached to states with a specific **duration** property\n",
    "2. the **triangle** at the beginning of transitions endowed with an **escape** condition.\n",
    "\n",
    "```\n",
    "emulsion diagrams step3.yaml\n",
    "```"
   ]
  },
  {
   "cell_type": "code",
   "execution_count": null,
   "id": "3186dbcc-f805-4d77-8de0-1bef1b1b74aa",
   "metadata": {
    "tags": []
   },
   "outputs": [],
   "source": [
    "%%bash\n",
    "cd exercises\n",
    "emulsion diagrams step3.yaml"
   ]
  },
  {
   "cell_type": "markdown",
   "id": "851a8498-4c31-4dac-8a80-40d54f0631a4",
   "metadata": {
    "tags": []
   },
   "source": [
    "![img/stoch_compart_SEIR_JA_dur_health_state_machine.svg](solutions/img/stoch_compart_SEIR_JA_dur_health_state_machine.svg)"
   ]
  },
  {
   "cell_type": "markdown",
   "id": "4b53a0cd-4d64-4ff7-bc88-ffb489388e10",
   "metadata": {},
   "source": [
    "---\n",
    "\n",
    "## Exercise 4 — Adding a contact structure\n",
    "\n",
    "Now, we assume that juveniles and adults are physically separated, which affects the transmission of the pathogen. We have indeed to introduce different transmission rates within and between groups. \n",
    "\n",
    "In what follows, we denote by `transAJ` the transmission rate from group A to group J. Thus, group J (resp. A) is experiencing a force of infection defined by:\n",
    "$$\n",
    "f_J = \\frac{trans_{JJ} \\times I_J + trans_{AJ} \\times I_A}{N} \\qquad f_A = \\frac{trans_{AA} \\times I_A + trans_{JA} \\times I_J}{N}\n",
    "$$ \n",
    "\n",
    "where $I_J$ (resp. $I_A$) denotes the number of infectious individuals in group J (resp. A) and $N$ the total number of individuals (i.e. the variable `total_herd` already in use in the initial force of infection).\n",
    "\n",
    "### 4.1 Create explicit groupings\n",
    "\n",
    "EMULSION provides the capability to count the amount of infectious individuals in each group, based on the `groupings:` section already encounterd in hybrid models:\n",
    "- open file [`step4.yaml`](exercises/step4.yaml) and change the model name into `stoch_compart_SEIR_JA_dur_struct`\n",
    "- add a section `grouping:` as follows:\n",
    "\n",
    "        grouping:\n",
    "          herd:\n",
    "            infection_by_age: [health_state, age_group]\n",
    "\n",
    "\n",
    "  This specification makes EMULSION define new variables of the form `total_X_Y` where `X` denote a `health_state` and `Y` an `age_group`, for instance `total_I_J` is the number of infectious juveniles... Also, EMULSION provides boolean variables (0/1) of the form `is_X` to test whether a subpopulation is in state X, e.g. `is_I` returns 1 for infectious subpopulations, 0 otherwise.\n",
    "\n",
    "- create two new expressions to calculate the prevalence in juveniles and adults respectively, and add them to the `outputs:` section, then test the model\n",
    "\n",
    "### 4.2 Split the force of infection by age group\n",
    "\n",
    "- revise the force of infections based on the groupings and the boolean variables:\n",
    "\n",
    "      force_of_infection:\n",
    "        desc: 'infection function assuming frequency dependence, depending on age group'\n",
    "        value: 'is_J * force_of_infection_juveniles + is_A * force_of_infection_adults'\n",
    "      force_of_infection_juveniles:\n",
    "        desc: 'force of infection experienced by juveniles'\n",
    "        value: '(transJJ * total_I_J + transAJ * total_I_A) / total_herd'\n",
    "      force_of_infection_adults:\n",
    "        desc: 'force of infection experienced by adults'\n",
    "        value: '(transAA * total_I_A + transJA * total_I_J) / total_herd'  \n",
    "            \n",
    "\n",
    "- don't forget to define the transmissions parameters `transJJ`, `transAA`, `transAJ`, `transJA` \n",
    "- test the model with no contact structure, i.e. $$trans_{JJ} = trans_{AA} = trans_{AJ} = trans_{JA} = 0.5$$ (remember option `-p` when running EMULSION!), observe the prevalence in each group\n",
    "- test the model with the following contact structure: $$trans_{JJ} = 0.1, \\quad trans_{AA} = 1,\\quad trans_{AJ} = trans_{JA} = 0.05$$ and observe the prevalence in each group\n"
   ]
  },
  {
   "cell_type": "markdown",
   "id": "d801f13d",
   "metadata": {},
   "source": [
    "---\n",
    "\n",
    "## Exercise 5 — Transformation into an Individual-Based Model (IBM)\n",
    "\n",
    "Compartmental models are simple and able to cope with large amounts of individuals, but those individuals are not simulated explicitly: the total population is split into sub-populations associated with quantities. IBM provide a finer-grained approach where individuals features can be modelled explicitly.\n",
    "\n",
    "EMULSION provides facilities for transforming compartmental models into IBM.\n",
    "- open file [`step5.yaml`](exercises/step5.yaml)\n",
    "- change the model name into `stoch_IBM_SEIR_JA_dur`\n",
    "- in the `levels:` section, change the aggregation type from `compartment` to `IBM`\n",
    "- just try (quite easy, isn't it?)\n",
    "```\n",
    "emulsion run --plot step5.yaml --silent\n",
    "```\n"
   ]
  },
  {
   "cell_type": "code",
   "execution_count": null,
   "id": "b2499c8e",
   "metadata": {},
   "outputs": [],
   "source": [
    "%%bash\n",
    "cd exercises\n",
    "emulsion run --plot step5.yaml --silent"
   ]
  },
  {
   "cell_type": "markdown",
   "id": "92cac695",
   "metadata": {},
   "source": [
    "Note the execution time — slow, isn’t it ?..."
   ]
  },
  {
   "cell_type": "markdown",
   "id": "bf8fa734",
   "metadata": {},
   "source": [
    "---\n",
    "\n",
    "## Exercise 6 — Hybrid models\n",
    "\n",
    "Programming issues aside, the major drawback of IBM is often execution time. EMULSION provides an automatic way of grouping individuals to reduce computation time. Such *hybrid models* are specified through keyword `aggregation_type: 'hybrid'` in the levels section. They use all IBM features, except for groupings and processes.\n",
    "\n",
    "- open [step6.yaml](exercises/step6.yaml) and change the model name into `stoch_hybrid_SEIR_JA_dur`\n",
    "- in the `levels:` section, change the aggregation type from `compartment` to `hybrid`\n",
    "- and modify the `processes:` section as follows:\n",
    "\n",
    "        processes:\n",
    "          animals:            \n",
    "            - health_state: infection_by_age\n",
    "            - age_group: infection_by_age                    \n",
    "\n",
    "- finally test the model:\n",
    "````\n",
    "emulsion run --plot step6.yaml --silent\n",
    "````\n"
   ]
  },
  {
   "cell_type": "code",
   "execution_count": null,
   "id": "3a9473eb",
   "metadata": {},
   "outputs": [],
   "source": [
    "%%bash\n",
    "cd exercises\n",
    "emulsion run --plot step6.yaml --silent"
   ]
  },
  {
   "cell_type": "markdown",
   "id": "61c258aa",
   "metadata": {},
   "source": [
    "and check the results: [img/stoch_hybrid_SEIR_JA_dur_struct.html](exercises/img/stoch_hybrid_SEIR_JA_dur_struct.html)\n",
    "\n",
    "Note the execution time — much better, isn’t it ?"
   ]
  },
  {
   "cell_type": "markdown",
   "id": "c601b72e-6cbe-4584-9acb-18b61b374c01",
   "metadata": {},
   "source": [
    "---\n",
    "\n",
    "## Exercise 7 — Variable individual shedding\n",
    "\n",
    "We now assume that pathogen shedding depends on:\n",
    "- individuals, to account for differences in immune response to the pathogen (e.g. low shedders vs. high shedders)\n",
    "- the time elapsed since infection, to account for the progressive clearing of the pathogen\n",
    "\n",
    "Each infectious individual now has a variable shedding rate defined as follows:\n",
    "- we assume that juveniles are low shedders whereas adults are high shedders\n",
    "- at infection, each individual sets a maximum shedding rate $\\beta_i^{\\max}$ which is sampled in a gamma distribution:  \n",
    "  - low shedders: ``random_gamma(50, 1.0/50)``\n",
    "  - high shedders: ``random_gamma(100, 2.0/100)``\n",
    "- at time $T_i$ after infection, individuals have a shedding rate: $$\\beta_i = \\beta_i^{\\max} \\times e^{-2 T_i * recovery}$$\n",
    "\n",
    "To do so, we rely upon several EMULSION features regarding individual variables."
   ]
  },
  {
   "cell_type": "markdown",
   "id": "edf891c5-0338-4cfe-ba1a-3eeb2de7bf38",
   "metadata": {},
   "source": [
    "### 7.1. Add individual and aggregate variables:\n",
    "\n",
    "Open [step7.yaml](exercises/step7.yaml) and change the model name into `stoch_hybrid_SEIR_JA_dur_var`\n",
    "\n",
    "\n",
    "1. Add a new section ``statevar:`` to declare and describe the new variables:\n",
    "\n",
    "       statevars:\n",
    "         beta_i_max:\n",
    "           desc: 'maximum shedding rate'\n",
    "         beta_i:\n",
    "           desc: 'current shedding rate'\n",
    "\n",
    "2. Add a prototype as follows:\n",
    "    \n",
    "       - default_animal:\n",
    "           beta_i: 0\n",
    "           beta_i_max: 0\n",
    "        \n",
    "3. Add a default prototype in the ``levels:`` section:\n",
    "\n",
    "        levels:\n",
    "          ...\n",
    "          animals:\n",
    "            desc: 'level of individuals (not simulated in compartment-based models)'\n",
    "            default_prototype: default_animal\n",
    "\n",
    "This ensures that all animals initialize variables $\\beta_i^{\\max}$ and $\\beta_i$ properly.\n",
    "\n",
    "4. Define a variable ``total_beta`` at the level of the herd as the sum of individual variables ``beta_i``:\n",
    "\n",
    "       levels:\n",
    "         herd:\n",
    "           ...\n",
    "           aggregate_vars:\n",
    "             - name: 'total_beta'\n",
    "               collect: 'beta_i'\n",
    "               operator: 'sum'\n",
    "         ...\n",
    "\n",
    "5. Revise the force of infection\n",
    "\n",
    "``total_beta`` can be seen as the total amount of pathogen **shed in the environment** at herd scale. \n",
    "\n",
    "To simplify, we will not use the conctact structure between adults and juveniles and just assume that the force of infection is determined by this environmental shedding:\n",
    "\n",
    "    force_of_infection:\n",
    "      desc: 'infection function assuming frequency dependence'\n",
    "      value: 'total_beta / total_herd'\n",
    "\n",
    "\n",
    "You will be able to visualize the evolution of ``total_beta`` by adding it in the ``outputs:`` section. Yet, at this stage no infection occurs, because the individual variables are not set properly during infectious state!\n"
   ]
  },
  {
   "cell_type": "markdown",
   "id": "45f7eab3-081d-48a7-8c5c-f327d56d6550",
   "metadata": {},
   "source": [
    "### 7.2 Update shedding\n",
    "\n",
    "1. Define actions when entering/staying/leaving the infectious state\n",
    "\n",
    "These individual variables must be updated when individuals enter the I state, while they are infectious, and when they recover. This can be done using built-in actions to modify the variables in state I:\n",
    "\n",
    "      - I:\n",
    "          name: 'Infectious'\n",
    "          ...\n",
    "          on_enter:\n",
    "            - set_var: 'beta_i_max'\n",
    "              value: 'beta_max'\n",
    "            - set_var: 'beta_i'\n",
    "              value: 'beta_i_max'\n",
    "          on_stay:\n",
    "            - set_var: 'beta_i'\n",
    "              value: 'beta'\n",
    "          on_exit:\n",
    "            - set_var: 'beta_i'\n",
    "              value: 0\n",
    "\n",
    "Actions are executed in sequence when the corresponding event (enter, stay, exit) is triggered."
   ]
  },
  {
   "cell_type": "markdown",
   "id": "f7109a6d-25d9-4b5a-8faf-1153ef58b6ff",
   "metadata": {},
   "source": [
    "2. Define expressions for updating shedding\n",
    "\n",
    "The final step consists in defining the convenient expressions for ``beta_max`` and ``beta`` in the ``parameters:`` section.\n",
    "\n",
    "- for ``beta_max``, remember that the distribution to use depends on the age group!\n",
    "- for ``beta``, which is a time-dependent expression, you can use the built-in variable ``duration_in_health_state`` which provides the time elapsed since entering the current state of state machine ``health_state`` (hence, the duration in infectious state for infectious individuals)"
   ]
  },
  {
   "cell_type": "markdown",
   "id": "e19139ec-a123-451a-8eb9-5aa886bdcca7",
   "metadata": {},
   "source": [
    "Generate the state machine diagram and note the lozenges which mark the presence of actions when entering I state, staying in I, and exiting I."
   ]
  },
  {
   "cell_type": "code",
   "execution_count": 12,
   "id": "198b5868-9faf-4795-a4e4-2ca7792e2634",
   "metadata": {},
   "outputs": [
    {
     "name": "stdout",
     "output_type": "stream",
     "text": [
      "/Users/picault/git/emulsion-training/exercises\n",
      "Simulation level:herd\n",
      "Generated state machine diagram img/stoch_hybrid_SEIR_JA_dur_var_health_state_machine.svg\n",
      "Generated state machine diagram img/stoch_hybrid_SEIR_JA_dur_var_age_group_machine.svg\n"
     ]
    }
   ],
   "source": [
    "%%bash\n",
    "cd exercises\n",
    "emulsion diagrams step7.yaml"
   ]
  },
  {
   "cell_type": "markdown",
   "id": "b0c02d67-8b3b-4602-abef-39ea013f2e76",
   "metadata": {},
   "source": [
    "![img/stoch_hybrid_SEIR_JA_dur_var_health_state_machine.svg](solutions/img/stoch_hybrid_SEIR_JA_dur_var_health_state_machine.svg)"
   ]
  },
  {
   "cell_type": "markdown",
   "id": "147da319-d95f-4d00-a173-5ee4e2e7db44",
   "metadata": {},
   "source": [
    "--- \n",
    "\n",
    "## Exercise 8 — Test-and-cull\n",
    "\n",
    "We assume now that the disease can be detected through a test, with a given sensitivity and specificity. The **sensitivity** is the capability of the test to identify all infected individuals (i.e. the probability of being detected if infected, $Se = p(D|I)$), whereas the **specificity** is the capability of the test to identify only infected individuals (i.e. the probability of not being detected when not infected, $Sp = p(\\neg D|\\neg I)$). Hence, the probability of being detected is:\n",
    "$$p_{detection} = Se \\times p(I) + (1 - Sp) \\times (1 - p(I))$$ where $p(I)$ denotes the probability that the tested individual is infected.\n",
    "\n"
   ]
  },
  {
   "cell_type": "markdown",
   "id": "57aa79ae-5f0f-4b5e-8758-dd8a95761eb1",
   "metadata": {},
   "source": [
    "### 8.1 Setup individual tests\n",
    "\n",
    "Open [step8.yaml](exercises/step8.yaml) and change the model name into `stoch_hybrid_SEIR_JA_dur_var_test`\n",
    "\n",
    "1. Add a new state machine to represent the test protocol\n",
    "- animals are ``Untested`` by default. Let's assume that individuals are not tested until there are at least 50(``threshold_untested``) untested individuals.\n",
    "- ``Negative`` animals had a test with negative results. This test result is considered valid for 12 weeks, then they return to ``Untested``\n",
    "- ``Suspicious`` animals were tested positive (previously untested): in that case, a second test is scheduled after ``delay_before_confirmation`` (1 week), which can lead either to ``Negative`` or to ``Confirmed``\n",
    "- ``Confirmed`` animals were tested positive twice in consecutive tests. They will be culled after ``delay_before_culling`` (5 days)\n",
    "- ``Culled`` animals are removed from the herd permanently.\n",
    "\n",
    "2. Define the associated parameters, and the expression ``proba_positive_test`` for the probability that a test is positive, depending on the actual health state of the individual. \n",
    "\n",
    "Here we will take a test with a ``sensitivity`` of 0.9 and a ``specificity`` of 0.7 (should give a lot of false positives!)\n",
    "\n",
    "3. Do not forget to update the ``grouping:`` and ``processes:`` sections!\n",
    "\n",
    "4. Update the default prototype \n",
    "\n",
    "5. Generate the model diagrams, then test your model"
   ]
  },
  {
   "cell_type": "code",
   "execution_count": 16,
   "id": "7a9173de-be1a-4e53-92d8-c6b31326b4f4",
   "metadata": {},
   "outputs": [
    {
     "name": "stdout",
     "output_type": "stream",
     "text": [
      "/Users/picault/git/emulsion-training/exercises\n",
      "Simulation level:herd\n",
      "Generated state machine diagram img/stoch_hybrid_SEIR_JA_dur_var_test_test_status_machine.svg\n",
      "Generated state machine diagram img/stoch_hybrid_SEIR_JA_dur_var_test_health_state_machine.svg\n",
      "Generated state machine diagram img/stoch_hybrid_SEIR_JA_dur_var_test_age_group_machine.svg\n"
     ]
    }
   ],
   "source": [
    "%%bash\n",
    "cd exercises\n",
    "emulsion diagrams step8.yaml"
   ]
  },
  {
   "cell_type": "markdown",
   "id": "8e225a60-5006-456e-b5e0-a1f09013589f",
   "metadata": {},
   "source": [
    "![img/stoch_hybrid_SEIR_JA_dur_var_test_test_status_machine.svg](solutions/img/stoch_hybrid_SEIR_JA_dur_var_test_test_status_machine.svg)"
   ]
  },
  {
   "cell_type": "markdown",
   "id": "dcc61ada-c21e-4e6b-a7e9-fa7332c33ceb",
   "metadata": {},
   "source": [
    "### 8.3 Improve tests \n",
    "\n",
    "As you can see, this test-and-cull protocol is not very efficient...\n",
    "\n",
    "Try to improve protocol efficacy:\n",
    "- what would happen with more sensitive/specific tests ?\n",
    "- what is the impact of the delays to re-test or cull confirmed animals ?\n",
    "- how would you represent tests that can detect early infection (i.e. exposed state as well as infectious?)\n"
   ]
  },
  {
   "cell_type": "markdown",
   "id": "5b3c6139-92af-4161-858e-e5a2dab560f2",
   "metadata": {},
   "source": [
    "--- \n",
    "\n",
    "## Exercise 9 — Quarantine\n",
    "\n",
    "In the previous model, suspicious and confirmed animals are still possibly infecting others. Quarantine is a way to isolate detected animals so that they are not a threat during a given period.\n",
    "\n",
    "Open [step9.yaml](exercises/step9.yaml) and change the model name into  ``stoch_hybrid_SEIR_JA_dur_var_test_quar``\n",
    "\n",
    "1. Add a new state machine ``isolation`` with the following states:\n",
    "  - ``InGroup`` (default) for animals with the rest of the herd\n",
    "  - ``Isolated`` where animals either suspicious or confirmed move for a duration ``dur_quarantine`` of 40 days (then back to ``InGroup``)\n",
    "  \n",
    "2. Update the default prototype accordingly\n",
    "\n",
    "3. Rewrite grouping and processes as follows:\n",
    "\n",
    "\n",
    "       grouping:\n",
    "         herd:\n",
    "           infection_by_age: [health_state, age_group]\n",
    "           infection_and_test: [test_status, health_state, isolation]\n",
    "\n",
    "       processes:\n",
    "         animals:\n",
    "           - health_state: infection_and_test\n",
    "           - age_group: infection_by_age\n",
    "           - test_status: infection_and_test\n",
    "           - isolation: infection_and_test\n",
    "   \n",
    "4. Update the force of infection \n",
    "\n",
    "You already know that you get variables of the form ``total_I`` based on the names of states defined in state machines... This also applies to **aggregate variables**, especially ``total_beta`` which was defined at herd scale. Hence, you get variables of the form ``total_beta_X`` where X can be any valid state name.\n",
    "\n",
    "Assuming that isolated individuals do not contribute to infection (including between themselves), update the expression of the force of infection.\n",
    "   \n",
    "\n",
    "5. Have a look at the state machine diagrams and run your model with the best control strategy found in the test-and-cull measure. \n",
    "\n",
    "Can culling be replaced with quarantine?\n"
   ]
  },
  {
   "cell_type": "code",
   "execution_count": 19,
   "id": "146c47ad-74a4-4fd5-8972-89d7e9159f3b",
   "metadata": {},
   "outputs": [
    {
     "name": "stdout",
     "output_type": "stream",
     "text": [
      "/Users/picault/git/emulsion-training/exercises\n",
      "Simulation level:herd\n",
      "Generated state machine diagram img/stoch_hybrid_SEIR_JA_dur_var_test_quar_test_status_machine.svg\n",
      "Generated state machine diagram img/stoch_hybrid_SEIR_JA_dur_var_test_quar_isolation_machine.svg\n",
      "Generated state machine diagram img/stoch_hybrid_SEIR_JA_dur_var_test_quar_health_state_machine.svg\n",
      "Generated state machine diagram img/stoch_hybrid_SEIR_JA_dur_var_test_quar_age_group_machine.svg\n"
     ]
    }
   ],
   "source": [
    "%%bash\n",
    "cd exercises\n",
    "emulsion diagrams step9.yaml"
   ]
  },
  {
   "cell_type": "markdown",
   "id": "3d3a497a-3c01-44b5-9892-f10ab7593a30",
   "metadata": {},
   "source": [
    "![img/stoch_hybrid_SEIR_JA_dur_var_test_quar_isolation_machine.svg](solutions/img/stoch_hybrid_SEIR_JA_dur_var_test_quar_isolation_machine.svg)"
   ]
  },
  {
   "cell_type": "markdown",
   "id": "2a0f9c32-0b49-4416-bfd6-a34e803a80d1",
   "metadata": {},
   "source": [
    "---\n",
    "\n",
    "## Exercise 10 — Changing scale: metapopulation\n",
    "\n",
    "EMULSION models can also work at the metapopulation scale. Metapopulations are a collection of \n",
    "populations with a contact structure, to account e.g. for indirect transmission or individual mobility. We are going to transpose the current model to the metapopulation level.\n",
    "\n",
    "### 10.1 Add the metapopulation level\n",
    "\n",
    "Open [step10.yaml](exercises/step10.yaml) and change the model name into  ``stoch_hybrid_SEIR_JA_dur_var_test_quar_metapop``\n",
    "\n",
    "1. In the ``levels:`` section, add a level named \"metapop\" with aggregation type ``metapopulation`` \n",
    "2. Move ``initial_prevalence`` from the ``parameters:`` section to ``statevars::`` (remove the ``value`` and keep only the ``desc`` part)\n",
    "3. Create two prototypes at herd level: ``healthy_herd`` and ``infected_herd`` with ``initial_prevalence`` set respectively to 0 and 0.1\n",
    "4. Add a parameter ``nb_herds`` with a small value (4-10) \n",
    "5. Add initial conditions for the metapop level, composed of 1 infected herd and ``nb_herds - 1`` \n",
    "\n",
    "... \"et  voilà !\" — You should already be able to test the model at the metapopulation scale!"
   ]
  },
  {
   "cell_type": "code",
   "execution_count": 23,
   "id": "d5f2e2af-a3cd-4458-b087-470adf7ad2b5",
   "metadata": {},
   "outputs": [
    {
     "name": "stdout",
     "output_type": "stream",
     "text": [
      "/Users/picault/git/emulsion-training/exercises\n",
      "Simulation level:metapop\n",
      "Simulation finished in 121.15 s\n",
      "Outputs stored in outputs/counts.csv\n",
      "Outputs plot in file: img/stoch_hybrid_SEIR_JA_dur_var_test_quar_metapop.html\n"
     ]
    },
    {
     "name": "stderr",
     "output_type": "stream",
     "text": [
      "100%|██████████| 10/10\n"
     ]
    }
   ],
   "source": [
    "%%bash\n",
    "cd exercises\n",
    "emulsion run --plot step10.yaml --silent"
   ]
  },
  {
   "cell_type": "markdown",
   "id": "cc3ed9e6-3853-460c-b4e7-ca363ba0f2ca",
   "metadata": {},
   "source": [
    "Look at the [results](exercises/img/stoch_hybrid_SEIR_JA_dur_var_test_quar_metapop.html):\n",
    "\n",
    "![img/metapop.png](img/metapop.png)\n"
   ]
  },
  {
   "cell_type": "markdown",
   "id": "2bd33176-ba04-47f0-98c4-acbb46e099c7",
   "metadata": {},
   "source": [
    "### 10.2 Transmission between populations\n",
    "\n",
    "At this stage, indeed, the pathogen spreads within the infected population as expected but not to other populations. To do so, we now assume that the force of infection experienced by each population is composed of:\n",
    "- the previous force of infection (within-population transmission)\n",
    "- a force of infection resulting from pathogen spread by other populations\n",
    "\n",
    "1. In the ``levels:`` section, add an aggregate variable ``metapop_total_beta`` to compute the total amount of pathogen in the metapopulation.\n",
    "2. Define a parameter ``trans_metapop = 0.002`` which represents the proportion of total amount of pathogen shed in the metapopulation which contributes to transmission in each herd, and add a term in the force of infection to account for this between-herd transmission\n",
    "3. Test your model and see the disease spread within the metapopultion as the prevalence in the initial infected herd grows...\n"
   ]
  },
  {
   "cell_type": "markdown",
   "id": "9a3885a1-3430-4358-8ef1-4b60bf130232",
   "metadata": {},
   "source": [
    "### 10.3 Processes at population scale\n",
    "\n",
    "In an EMULSION model, state machines can be used to implement processes not only at the individual scale, but also at the level of the population.\n",
    "\n",
    "1. Write a state machine ``herd_status`` which corresponds to the following diagram:\n",
    "\n",
    "![img/stoch_hybrid_SEIR_JA_dur_var_test_quar_metapop_herd_status_machine.svg](solutions/img/stoch_hybrid_SEIR_JA_dur_var_test_quar_metapop_herd_status_machine.svg)\n",
    "\n",
    "2. Add the corresponding expressions (``any_case``,  ``any_confirmed``) and durations (``dur_alert``, e.g. 14 days, and ``dur_infected``, e.g. 28 days) in the ``parameter:`` section.\n",
    "\n",
    "2. Modify the ``processes:`` section as follows:\n",
    "\n",
    "       processes:\n",
    "         herd:\n",
    "           - herd_status\n",
    "         animals:\n",
    "           ... (unchanged)\n",
    "           \n",
    "4. Do not forget that the initial ``herd_status`` of each herd must be initialized! You can either update herd prototypes, or define a default prototype associated with level herd.\n",
    "\n",
    "5. You can track the evolution of the status of each herd by adding variables ``is_Alert`` or ``is_Infected`` to the outputs.\n",
    "           "
   ]
  },
  {
   "cell_type": "markdown",
   "id": "81184d3b-d8e8-4eff-a5fe-b2600156c922",
   "metadata": {},
   "source": [
    "### 10.4 Conditional simulation interruption\n",
    "\n",
    "Suppose that your objective is to study how long it takes for the metapopulation to be fully infected (and detected as such): in that case, maybe running each simulation for the whole period is a waste of time.\n",
    "\n",
    "The ``time_info`` section provides a way to interrupt the simulation before the time limit (100 time steps by default, overriden by ``total_duration`` or command-line option ``-t``). \n",
    "\n",
    "1. Create an aggregate variable ``metapop_nb_infected`` at metapop scale to compute the number of herds in the ``Infected`` state.\n",
    "\n",
    "2. Write an expression ``all_populations_infected`` in the ``parameters:`` section to determine whether or not all populations are in this status.\n",
    "\n",
    "3. In the ``time_info:`` section, just add:\n",
    "\n",
    "       time_info:\n",
    "         ...\n",
    "         stop_condition: 'all_populations_infected'\n",
    "\n"
   ]
  },
  {
   "cell_type": "markdown",
   "id": "891a1292-51ab-4317-b308-d0543eb2ef56",
   "metadata": {},
   "source": [
    "---\n",
    "\n",
    "## Exercise 11 — Connecting to data\n",
    "\n",
    "Model realism can be enhanced through data in various ways. Though data formats and content can be very diverse, EMULSION provides several methods to connect models to data.\n",
    "\n",
    "### 11.1 Parameterizing initial conditions from data\n",
    "\n",
    "All populations in the metapop were created with similar prototypes, except for the initial prevalence. To account for a stronger diversity in herd profiles, defining all prototypes by hand would be quite tedious in large populations. Hence we are going to demonstrate the principle of using data-based prototypes in EMULSION. \n",
    "\n",
    "Open [step11.yaml](exercises/step11.yaml) and change the model name into  ``stoch_hybrid_SEIR_JA_dur_var_test_quar_metapop_data``\n",
    "\n",
    "1. Open file [data/herds.csv](exercises/data/herds.csv) and look at the column names.\n",
    "2. Move the matching parameters to the ``state_vars:`` section (keeping only the description)\n",
    "3. Add the following herd prototype:\n",
    "       \n",
    "       herd:\n",
    "         - data_based_herd:\n",
    "             desc: 'herd collection with data-driven initial conditions'\n",
    "             file: 'herds.csv'\n",
    "             select: 'ordered_cycle'\n",
    "             herd_status: DiseaseFree\n",
    "\n",
    "4. Modify the initial conditions as follows:\n",
    "\n",
    "       initial_conditions:\n",
    "         metapop:\n",
    "           - prototype: data_based_herd\n",
    "             amount: 'nb_herds'\n",
    "\n",
    "When a prototype based on a data file is used, e.g. in initial conditions, the prototype actually used to determine the initial value of variables is chosen among the lines of the CSV file, according to the method indicated in ``select`` (and possible additional constraints, see EMULSION documentation). Here for example, lines are taken in order (and cycle to the first line after the last one).\n",
    "\n",
    "5. Test the model on 200 days (``-t 200``) to better see the differences between populations (especially how the initial herd size adjusts to the carrying capacity). Use a high specifity (or remove the stop condition) to avoid halting simulation too early.\n",
    "\n",
    "\n",
    "\n",
    "\n",
    "\n",
    "\n"
   ]
  },
  {
   "cell_type": "markdown",
   "id": "616ad843-9413-4ac7-b5b7-ef9394a0dd0f",
   "metadata": {},
   "source": [
    "### 11.2 Time-dependent data-driven parameters"
   ]
  },
  {
   "cell_type": "markdown",
   "id": "a2b5b560-c6e3-4b94-8c82-040007edf64f",
   "metadata": {},
   "source": [
    "### 11.3 Data-driven mobility: coupling Python add-ons with EMULSION"
   ]
  },
  {
   "cell_type": "code",
   "execution_count": null,
   "id": "3b7e7b80-27fb-4567-aa62-d7f677efa1bd",
   "metadata": {},
   "outputs": [],
   "source": []
  },
  {
   "cell_type": "markdown",
   "id": "32e22e94-1fb1-4179-ad41-397bc73f2094",
   "metadata": {},
   "source": [
    "---\n",
    "\n",
    "## Exercise 12 — A treatment, at last! —  Late modifications of within-herd model assumptions\n"
   ]
  },
  {
   "cell_type": "markdown",
   "id": "3d7fbc71-6376-4777-addd-a62581464192",
   "metadata": {},
   "source": [
    "---\n",
    "\n",
    "# A case study: \n",
    "\n",
    "In this part, we are going to re-implement with EMULSION a published model which covers additional modelling issues, such as multi-species interactions and control.\n",
    "\n",
    "## A. Re-implement the model \n",
    "\n",
    "1. Read the original paper: [Massad et al. 2001](https://doi.org/10.1006/tpbi.2000.1494) (or the copy here) — well... at least, read section 3!\n",
    "\n",
    "> E. Massad, F. A. B. Coutinho, M. N. Burattini, P. C. Sallum, and L. F. Lopez (2001), A Mixed Ectopara- site–Microparasite Model for Bat-Transmitted Rabies, Theoretical Population Biology 60, 265–279. DOI: 10.1006/tpbi.2000.1494\n",
    "\n",
    "2. What do you think of the flow diagram?\n",
    "3. Try to rewrite the diagram in EMULSION style (not only from the original flow diagram but also from the text and the equations). You can start without any form of disease control.\n",
    "4. Choose a modelling paradigm (and explain why!)\n",
    "5. Start writing you EMULSION implementation and test it!\n",
    "6. Maybe there are weird values in parameters. Propose appropriate corrections.\n",
    "7. Write outputs to visualize the prevalence in bats and cattle respectively"
   ]
  },
  {
   "cell_type": "markdown",
   "id": "92b1129d-1cba-41fa-a6b6-8e9a762288b1",
   "metadata": {},
   "source": [
    "## B. Introduce control methods\n",
    "\n",
    "1. Propose and implement an output ``disease_impact`` that can summarize the severity of the disease. It will be used to assess the efficiency of disease control.\n",
    "2. Two control methods are proposed in the paper (§5.4)\n",
    "  - cattle vaccination\n",
    "  - bat poisoning \n",
    "  \n",
    "  Propose mechanisms to implement them in EMULSION and test each of them.\n",
    " "
   ]
  },
  {
   "cell_type": "markdown",
   "id": "181a4454-e716-4a72-9eef-314cf7dfc7e6",
   "metadata": {},
   "source": [
    "## C. Explore the model and parameter states\n",
    "\n",
    "We now want to assess the impact of control methods and of control level on ``disease_impact``. To do so, define a set of scenarios as a CSV file as follows (with **tabulations**, not commas, as field separator):\n",
    "- the first column (names ``scenario_id``) contains the name of the scenario (and will serve as the name of a directory where the results will be put)\n",
    "- other columns, names after each parameter considered for scenario definition, contain the values that those parameters take in each scenario (hence one line corresponds to a complete parameter configuration for one scenario).\n",
    "\n",
    "Example: a CSV file called ``control.csv``\n",
    "\n",
    "\n",
    "> TODO\n",
    "\n",
    "1. Run the scenarios (with ``./scripts/test_scenarios.sh``)\n",
    "2. Gather results into a single CSV file (with ``Rscript scripts/gather_outputs.R``)\n",
    "3. Finally view how simulation outcomes change depending on control parameters (``Rscript scripts/analyse_results.R``)\n",
    "\n"
   ]
  },
  {
   "cell_type": "code",
   "execution_count": null,
   "id": "0809bf85-3285-49fb-b3ad-77c7d8f3c16a",
   "metadata": {},
   "outputs": [],
   "source": []
  },
  {
   "cell_type": "code",
   "execution_count": null,
   "id": "20e1c71c-0863-4d00-8cf2-ca97ef7d430b",
   "metadata": {},
   "outputs": [],
   "source": []
  },
  {
   "cell_type": "code",
   "execution_count": null,
   "id": "a6fd4517-8869-4893-bc46-a496a1e25e42",
   "metadata": {},
   "outputs": [],
   "source": [
    "## "
   ]
  },
  {
   "cell_type": "code",
   "execution_count": null,
   "id": "bed0aa4f-3684-425f-86b9-2f2fab1816e0",
   "metadata": {},
   "outputs": [],
   "source": []
  },
  {
   "cell_type": "code",
   "execution_count": null,
   "id": "bcc2fa82-218e-40fe-b6cf-8e14e6153444",
   "metadata": {},
   "outputs": [],
   "source": []
  },
  {
   "cell_type": "code",
   "execution_count": null,
   "id": "9d0673cf-ecf9-4783-b5b1-30bc7c125f01",
   "metadata": {},
   "outputs": [],
   "source": []
  },
  {
   "cell_type": "code",
   "execution_count": null,
   "id": "54e9b39d-3e4a-451c-baa7-045d3f1b2efd",
   "metadata": {},
   "outputs": [],
   "source": []
  }
 ],
 "metadata": {
  "kernelspec": {
   "display_name": "Python 3",
   "language": "python",
   "name": "python3"
  },
  "language_info": {
   "codemirror_mode": {
    "name": "ipython",
    "version": 3
   },
   "file_extension": ".py",
   "mimetype": "text/x-python",
   "name": "python",
   "nbconvert_exporter": "python",
   "pygments_lexer": "ipython3",
   "version": "3.8.2"
  }
 },
 "nbformat": 4,
 "nbformat_minor": 5
}
